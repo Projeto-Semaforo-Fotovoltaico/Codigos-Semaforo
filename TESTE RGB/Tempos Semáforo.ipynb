{
 "cells": [
  {
   "cell_type": "code",
   "execution_count": 4,
   "id": "d1da0f78",
   "metadata": {},
   "outputs": [],
   "source": [
    "import matplotlib.pyplot as plt\n",
    "import seaborn as sns\n",
    "import numpy as np\n",
    "from time import time"
   ]
  },
  {
   "cell_type": "code",
   "execution_count": 28,
   "id": "e51f3f79",
   "metadata": {},
   "outputs": [],
   "source": [
    "temposVermelho = [1660844222.9098406, 11.385625839233398, 10.988975524902344, 10.899147510528564, 10, 9.546325922012329, 13.063467741012573, 8.427303791046143, 9.502930641174316, 10.66839051246643, 11.965819597244263, 11.505106210708618, 10.530327320098877, 8.000858068466187, 9.515460968017578, 11.483433723449707, 13.473722219467163, 13.994287729263306, 6.511552810668945, 8.999362468719482]\n",
    "temposResto    = [17.20174527168274, 14.023689985275269, 15.11756181716919, 18.57351779937744, 11.257372617721558, 15.997312545776367, 14.015892505645752, 17.03881311416626, 10.02453875541687, 17.035287857055664, 15.591679811477661, 13.794899940490723, 18.5036883354187, 16.063854455947876, 12.535786390304565, 14.573550701141357, 10.037869930267334, 15.494884252548218, 17.024917125701904, 15.548988580703735, 11.06621766090393, 8.530973196029663, 14.540498971939087, 19.53130340576172, 13.116199970245361]\n",
    "\n",
    "temposVermelho = temposVermelho[2:]\n",
    "temposResto    = temposResto[2:]"
   ]
  },
  {
   "cell_type": "code",
   "execution_count": 29,
   "id": "3eac58c8",
   "metadata": {},
   "outputs": [
    {
     "name": "stdout",
     "output_type": "stream",
     "text": [
      "TemposVermelho:  10.5\n",
      "TemposResto   :  14.57\n"
     ]
    }
   ],
   "source": [
    "print('TemposVermelho: ', round(np.mean(temposVermelho), 2))\n",
    "print('TemposResto   : ', round(np.mean(temposResto), 2))"
   ]
  },
  {
   "cell_type": "markdown",
   "id": "d88f19ce",
   "metadata": {},
   "source": [
    "# VERIFICANDO DISTRIBUIÇÃO"
   ]
  },
  {
   "cell_type": "code",
   "execution_count": 30,
   "id": "03db3db8",
   "metadata": {},
   "outputs": [
    {
     "data": {
      "image/png": "[encoded data removed]",
      "text/plain": [
       "<Figure size 720x432 with 1 Axes>"
      ]
     },
     "metadata": {
      "needs_background": "light"
     },
     "output_type": "display_data"
    }
   ],
   "source": [
    "plt.figure(figsize=(10, 6))\n",
    "sns.histplot(temposVermelho, color='blue', kde=True, bins=11)\n",
    "plt.show()"
   ]
  },
  {
   "cell_type": "markdown",
   "id": "c6b4508b",
   "metadata": {},
   "source": [
    "# ELIMINANDO OUTLIERS"
   ]
  },
  {
   "cell_type": "code",
   "execution_count": 9,
   "id": "50958ffb",
   "metadata": {},
   "outputs": [
    {
     "name": "stdout",
     "output_type": "stream",
     "text": [
      "TemposVermelho:  10.16\n",
      "TemposResto   :  15.17\n"
     ]
    }
   ],
   "source": [
    "def treatData(list):\n",
    "    array = np.array(list)\n",
    "    \n",
    "    std  = np.std(array)\n",
    "    mean = np.mean(array)\n",
    "\n",
    "    upper = mean + 1*std\n",
    "    lower = mean - 1*std\n",
    "\n",
    "    array = array[(array > lower) & (array < upper)]\n",
    "    return np.mean(array)\n",
    "\n",
    "print('TemposVermelho: ', round(treatData(temposVermelho), 2))\n",
    "print('TemposResto   : ', round(treatData(temposResto), 2))"
   ]
  },
  {
   "cell_type": "code",
   "execution_count": null,
   "id": "05cee910",
   "metadata": {},
   "outputs": [],
   "source": []
  }
 ],
 "metadata": {
  "kernelspec": {
   "display_name": "Python 3 (ipykernel)",
   "language": "python",
   "name": "python3"
  },
  "language_info": {
   "codemirror_mode": {
    "name": "ipython",
    "version": 3
   },
   "file_extension": ".py",
   "mimetype": "text/x-python",
   "name": "python",
   "nbconvert_exporter": "python",
   "pygments_lexer": "ipython3",
   "version": "3.9.12"
  }
 },
 "nbformat": 4,
 "nbformat_minor": 5
}
